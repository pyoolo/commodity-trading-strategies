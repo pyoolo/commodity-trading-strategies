{
 "cells": [
  {
   "cell_type": "code",
   "execution_count": null,
   "id": "77a07fd6-2dcf-4269-ba21-a8caecc0e063",
   "metadata": {},
   "outputs": [],
   "source": [
    "import yfinance as yf\n",
    "import pandas as pd\n",
    "import matplotlib.pyplot as plt\n",
    "\n",
    "# Scarica i dati\n",
    "brent = yf.download(\"BZ=F\", start=\"2022-01-01\", end=\"2024-12-31\")['Adj Close']\n",
    "wti = yf.download(\"CL=F\", start=\"2022-01-01\", end=\"2024-12-31\")['Adj Close']\n",
    "\n",
    "# Crea dataframe e calcola spread\n",
    "df = pd.DataFrame({\"Brent\": brent, \"WTI\": wti}).dropna()\n",
    "df[\"Spread\"] = df[\"Brent\"] - df[\"WTI\"]\n",
    "\n",
    "# Visualizza prezzi\n",
    "df[[\"Brent\", \"WTI\"]].plot(title=\"Prezzi Brent e WTI\")\n",
    "plt.show()\n",
    "\n",
    "# Strategia di mean reversion\n",
    "df[\"Media\"] = df[\"Spread\"].rolling(30).mean()\n",
    "df[\"Deviazione\"] = df[\"Spread\"].rolling(30).std()\n",
    "df[\"Z-Score\"] = (df[\"Spread\"] - df[\"Media\"]) / df[\"Deviazione\"]\n",
    "\n",
    "df[[\"Spread\", \"Z-Score\"]].plot(title=\"Spread e Z-Score\")\n",
    "plt.show()"
   ]
  }
 ],
 "metadata": {
  "kernelspec": {
   "display_name": "Python 3 (ipykernel)",
   "language": "python",
   "name": "python3"
  },
  "language_info": {
   "codemirror_mode": {
    "name": "ipython",
    "version": 3
   },
   "file_extension": ".py",
   "mimetype": "text/x-python",
   "name": "python",
   "nbconvert_exporter": "python",
   "pygments_lexer": "ipython3",
   "version": "3.12.4"
  }
 },
 "nbformat": 4,
 "nbformat_minor": 5
}
